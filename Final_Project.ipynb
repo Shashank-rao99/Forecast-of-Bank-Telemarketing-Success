{
 "cells": [
  {
   "cell_type": "markdown",
   "id": "4ca50fb6-ca16-4e25-9f1a-4459ca9f1820",
   "metadata": {},
   "source": [
    "# Prediction of the Success of Bank Telemarketing"
   ]
  },
  {
   "cell_type": "markdown",
   "id": "36e5baf6-4fcc-4df4-80d6-1cc2c8211cfe",
   "metadata": {},
   "source": [
    "# Final Project\n",
    "\n",
    "## Team Paramount\n",
    "  1. Penchala Akshay Kumar Kandagaddala - U3586552\n",
    "  2. Sri Kumar Dundigalla - U48489930\n",
    "  3. Shashank Rao Gujja - U62836356\n",
    "  4. Yeshwant Reddy Kesari - U59107089\n",
    "  5. Nagulapalli Venkata Satya Naveen - U80765768\n",
    "  6. Kushal Reddy Rededdy - U09758182 "
   ]
  },
  {
   "cell_type": "markdown",
   "id": "592c0ea8-3f08-4087-a43b-61d1d963a7f6",
   "metadata": {},
   "source": [
    "# Bussiness Problem\n",
    "\n"
   ]
  },
  {
   "cell_type": "markdown",
   "id": "38366d03-a058-49c5-9d32-468d37d99e7a",
   "metadata": {},
   "source": [
    "#### Marketing team in a bank is one of the core teams for the upliftment of the organization. They will create a lot of impact on the development of the bank and the first step of the growth in any bank will be started by the marketing team.\n",
    "\n",
    "#### Marketing is the process of presenting a product or service to the market, promoting it, and encouraging consumers to make purchases. The key to a successful business nowadays is effective marketing, and marketing profoundly affects our day-to-day lives. \n",
    "\n",
    "#### The data refers to direct marketing initiatives carried out by a bank in Portugal, the marketing initiatives were centered on phone calls, it was occasionally essential to have many conversations with the same client to ascertain if the product bank term deposit would be subscribed (yes) or not (no)."
   ]
  },
  {
   "cell_type": "markdown",
   "id": "4d5d4d63-65c5-41c0-b5c6-fbbd8619a167",
   "metadata": {},
   "source": [
    "\n",
    "# Importing all Required Libraries"
   ]
  },
  {
   "cell_type": "code",
   "execution_count": 29,
   "id": "55e9c94b-64ec-4e0d-ace2-6bb05c09abd4",
   "metadata": {},
   "outputs": [],
   "source": [
    "# import packages\n",
    "import pandas as pd\n",
    "import numpy as np\n",
    "from sklearn.tree import DecisionTreeClassifier\n",
    "import matplotlib.pyplot as pltB\n",
    "from sklearn.metrics import confusion_matrix, accuracy_score, precision_score ,f1_score,classification_report, make_scorer,recall_score\n",
    "from sklearn.preprocessing import OrdinalEncoder\n",
    "from sklearn.preprocessing import LabelEncoder\n",
    "from sklearn.preprocessing import OneHotEncoder\n",
    "import matplotlib.pyplot as plt\n",
    "import seaborn as sns\n",
    "from sklearn.model_selection import train_test_split\n",
    "from sklearn.neighbors import KNeighborsClassifier\n",
    "from sklearn.tree import plot_tree\n",
    "import matplotlib.pyplot as plt\n",
    "from sklearn.tree import export_text\n",
    "from sklearn.utils import resample\n",
    "from sklearn import preprocessing\n",
    "from xgboost import XGBClassifier\n",
    "from sklearn.linear_model import LogisticRegression\n",
    "from sklearn.model_selection import train_test_split, cross_val_score, GridSearchCV\n",
    "from imblearn.over_sampling import RandomOverSampler\n",
    "from sklearn.model_selection import GridSearchCV, RandomizedSearchCV\n",
    "from xgboost import XGBClassifier\n",
    "from sklearn.ensemble import RandomForestClassifier, GradientBoostingClassifier, AdaBoostClassifier\n",
    "from imblearn.over_sampling import RandomOverSampler"
   ]
  },
  {
   "cell_type": "markdown",
   "id": "10dc9735-615a-4b13-bab0-e925ba53e458",
   "metadata": {},
   "source": [
    "# Loading the dataset"
   ]
  },
  {
   "cell_type": "code",
   "execution_count": 30,
   "id": "1aaee783-7788-4021-ab25-f2c5299d0054",
   "metadata": {},
   "outputs": [],
   "source": [
    "df = pd.read_csv('bank.csv') #loading data"
   ]
  },
  {
   "cell_type": "markdown",
   "id": "83ef5008-9243-46be-acfd-e508b9b49bdf",
   "metadata": {},
   "source": [
    "# Explore the dataset"
   ]
  },
  {
   "cell_type": "code",
   "execution_count": 31,
   "id": "78ef92d3-0331-4ac4-a37f-65295f82acbc",
   "metadata": {},
   "outputs": [
    {
     "data": {
      "text/html": [
       "<div>\n",
       "<style scoped>\n",
       "    .dataframe tbody tr th:only-of-type {\n",
       "        vertical-align: middle;\n",
       "    }\n",
       "\n",
       "    .dataframe tbody tr th {\n",
       "        vertical-align: top;\n",
       "    }\n",
       "\n",
       "    .dataframe thead th {\n",
       "        text-align: right;\n",
       "    }\n",
       "</style>\n",
       "<table border=\"1\" class=\"dataframe\">\n",
       "  <thead>\n",
       "    <tr style=\"text-align: right;\">\n",
       "      <th></th>\n",
       "      <th>age</th>\n",
       "      <th>job</th>\n",
       "      <th>marital</th>\n",
       "      <th>education</th>\n",
       "      <th>default</th>\n",
       "      <th>balance</th>\n",
       "      <th>housing</th>\n",
       "      <th>loan</th>\n",
       "      <th>contact</th>\n",
       "      <th>day</th>\n",
       "      <th>month</th>\n",
       "      <th>duration</th>\n",
       "      <th>campaign</th>\n",
       "      <th>pdays</th>\n",
       "      <th>previous</th>\n",
       "      <th>poutcome</th>\n",
       "      <th>y</th>\n",
       "    </tr>\n",
       "  </thead>\n",
       "  <tbody>\n",
       "    <tr>\n",
       "      <th>0</th>\n",
       "      <td>58</td>\n",
       "      <td>management</td>\n",
       "      <td>married</td>\n",
       "      <td>tertiary</td>\n",
       "      <td>no</td>\n",
       "      <td>2143</td>\n",
       "      <td>yes</td>\n",
       "      <td>no</td>\n",
       "      <td>unknown</td>\n",
       "      <td>5</td>\n",
       "      <td>may</td>\n",
       "      <td>261</td>\n",
       "      <td>1</td>\n",
       "      <td>-1</td>\n",
       "      <td>0</td>\n",
       "      <td>unknown</td>\n",
       "      <td>no</td>\n",
       "    </tr>\n",
       "    <tr>\n",
       "      <th>1</th>\n",
       "      <td>44</td>\n",
       "      <td>technician</td>\n",
       "      <td>single</td>\n",
       "      <td>secondary</td>\n",
       "      <td>no</td>\n",
       "      <td>29</td>\n",
       "      <td>yes</td>\n",
       "      <td>no</td>\n",
       "      <td>unknown</td>\n",
       "      <td>5</td>\n",
       "      <td>may</td>\n",
       "      <td>151</td>\n",
       "      <td>1</td>\n",
       "      <td>-1</td>\n",
       "      <td>0</td>\n",
       "      <td>unknown</td>\n",
       "      <td>no</td>\n",
       "    </tr>\n",
       "    <tr>\n",
       "      <th>2</th>\n",
       "      <td>33</td>\n",
       "      <td>entrepreneur</td>\n",
       "      <td>married</td>\n",
       "      <td>secondary</td>\n",
       "      <td>no</td>\n",
       "      <td>2</td>\n",
       "      <td>yes</td>\n",
       "      <td>yes</td>\n",
       "      <td>unknown</td>\n",
       "      <td>5</td>\n",
       "      <td>may</td>\n",
       "      <td>76</td>\n",
       "      <td>1</td>\n",
       "      <td>-1</td>\n",
       "      <td>0</td>\n",
       "      <td>unknown</td>\n",
       "      <td>no</td>\n",
       "    </tr>\n",
       "    <tr>\n",
       "      <th>3</th>\n",
       "      <td>47</td>\n",
       "      <td>blue-collar</td>\n",
       "      <td>married</td>\n",
       "      <td>unknown</td>\n",
       "      <td>no</td>\n",
       "      <td>1506</td>\n",
       "      <td>yes</td>\n",
       "      <td>no</td>\n",
       "      <td>unknown</td>\n",
       "      <td>5</td>\n",
       "      <td>may</td>\n",
       "      <td>92</td>\n",
       "      <td>1</td>\n",
       "      <td>-1</td>\n",
       "      <td>0</td>\n",
       "      <td>unknown</td>\n",
       "      <td>no</td>\n",
       "    </tr>\n",
       "    <tr>\n",
       "      <th>4</th>\n",
       "      <td>33</td>\n",
       "      <td>unknown</td>\n",
       "      <td>single</td>\n",
       "      <td>unknown</td>\n",
       "      <td>no</td>\n",
       "      <td>1</td>\n",
       "      <td>no</td>\n",
       "      <td>no</td>\n",
       "      <td>unknown</td>\n",
       "      <td>5</td>\n",
       "      <td>may</td>\n",
       "      <td>198</td>\n",
       "      <td>1</td>\n",
       "      <td>-1</td>\n",
       "      <td>0</td>\n",
       "      <td>unknown</td>\n",
       "      <td>no</td>\n",
       "    </tr>\n",
       "  </tbody>\n",
       "</table>\n",
       "</div>"
      ],
      "text/plain": [
       "   age           job  marital  education default  balance housing loan  \\\n",
       "0   58    management  married   tertiary      no     2143     yes   no   \n",
       "1   44    technician   single  secondary      no       29     yes   no   \n",
       "2   33  entrepreneur  married  secondary      no        2     yes  yes   \n",
       "3   47   blue-collar  married    unknown      no     1506     yes   no   \n",
       "4   33       unknown   single    unknown      no        1      no   no   \n",
       "\n",
       "   contact  day month  duration  campaign  pdays  previous poutcome   y  \n",
       "0  unknown    5   may       261         1     -1         0  unknown  no  \n",
       "1  unknown    5   may       151         1     -1         0  unknown  no  \n",
       "2  unknown    5   may        76         1     -1         0  unknown  no  \n",
       "3  unknown    5   may        92         1     -1         0  unknown  no  \n",
       "4  unknown    5   may       198         1     -1         0  unknown  no  "
      ]
     },
     "execution_count": 31,
     "metadata": {},
     "output_type": "execute_result"
    }
   ],
   "source": [
    "df.head() # checking first 5 columns"
   ]
  },
  {
   "cell_type": "code",
   "execution_count": 32,
   "id": "8cd21c75-25b2-4229-8b6a-d703ac1a9239",
   "metadata": {},
   "outputs": [
    {
     "data": {
      "text/plain": [
       "(45211, 17)"
      ]
     },
     "execution_count": 32,
     "metadata": {},
     "output_type": "execute_result"
    }
   ],
   "source": [
    "df.shape # checking number of rows and columns"
   ]
  },
  {
   "cell_type": "code",
   "execution_count": 33,
   "id": "64d8adb9-6ad5-43d6-a141-00c8abd7761c",
   "metadata": {},
   "outputs": [
    {
     "data": {
      "text/plain": [
       "Index(['age', 'job', 'marital', 'education', 'default', 'balance', 'housing',\n",
       "       'loan', 'contact', 'day', 'month', 'duration', 'campaign', 'pdays',\n",
       "       'previous', 'poutcome', 'y'],\n",
       "      dtype='object')"
      ]
     },
     "execution_count": 33,
     "metadata": {},
     "output_type": "execute_result"
    }
   ],
   "source": [
    "df.columns #chcecking column names"
   ]
  },
  {
   "cell_type": "code",
   "execution_count": 34,
   "id": "7bad93b4-29e7-439d-ad66-f1839fbc1171",
   "metadata": {},
   "outputs": [
    {
     "data": {
      "text/html": [
       "<div>\n",
       "<style scoped>\n",
       "    .dataframe tbody tr th:only-of-type {\n",
       "        vertical-align: middle;\n",
       "    }\n",
       "\n",
       "    .dataframe tbody tr th {\n",
       "        vertical-align: top;\n",
       "    }\n",
       "\n",
       "    .dataframe thead th {\n",
       "        text-align: right;\n",
       "    }\n",
       "</style>\n",
       "<table border=\"1\" class=\"dataframe\">\n",
       "  <thead>\n",
       "    <tr style=\"text-align: right;\">\n",
       "      <th></th>\n",
       "      <th>age</th>\n",
       "      <th>balance</th>\n",
       "      <th>day</th>\n",
       "      <th>duration</th>\n",
       "      <th>campaign</th>\n",
       "      <th>pdays</th>\n",
       "      <th>previous</th>\n",
       "    </tr>\n",
       "  </thead>\n",
       "  <tbody>\n",
       "    <tr>\n",
       "      <th>count</th>\n",
       "      <td>45211.000000</td>\n",
       "      <td>45211.000000</td>\n",
       "      <td>45211.000000</td>\n",
       "      <td>45211.000000</td>\n",
       "      <td>45211.000000</td>\n",
       "      <td>45211.000000</td>\n",
       "      <td>45211.000000</td>\n",
       "    </tr>\n",
       "    <tr>\n",
       "      <th>mean</th>\n",
       "      <td>40.936210</td>\n",
       "      <td>1362.272058</td>\n",
       "      <td>15.806419</td>\n",
       "      <td>258.163080</td>\n",
       "      <td>2.763841</td>\n",
       "      <td>40.197828</td>\n",
       "      <td>0.580323</td>\n",
       "    </tr>\n",
       "    <tr>\n",
       "      <th>std</th>\n",
       "      <td>10.618762</td>\n",
       "      <td>3044.765829</td>\n",
       "      <td>8.322476</td>\n",
       "      <td>257.527812</td>\n",
       "      <td>3.098021</td>\n",
       "      <td>100.128746</td>\n",
       "      <td>2.303441</td>\n",
       "    </tr>\n",
       "    <tr>\n",
       "      <th>min</th>\n",
       "      <td>18.000000</td>\n",
       "      <td>-8019.000000</td>\n",
       "      <td>1.000000</td>\n",
       "      <td>0.000000</td>\n",
       "      <td>1.000000</td>\n",
       "      <td>-1.000000</td>\n",
       "      <td>0.000000</td>\n",
       "    </tr>\n",
       "    <tr>\n",
       "      <th>25%</th>\n",
       "      <td>33.000000</td>\n",
       "      <td>72.000000</td>\n",
       "      <td>8.000000</td>\n",
       "      <td>103.000000</td>\n",
       "      <td>1.000000</td>\n",
       "      <td>-1.000000</td>\n",
       "      <td>0.000000</td>\n",
       "    </tr>\n",
       "    <tr>\n",
       "      <th>50%</th>\n",
       "      <td>39.000000</td>\n",
       "      <td>448.000000</td>\n",
       "      <td>16.000000</td>\n",
       "      <td>180.000000</td>\n",
       "      <td>2.000000</td>\n",
       "      <td>-1.000000</td>\n",
       "      <td>0.000000</td>\n",
       "    </tr>\n",
       "    <tr>\n",
       "      <th>75%</th>\n",
       "      <td>48.000000</td>\n",
       "      <td>1428.000000</td>\n",
       "      <td>21.000000</td>\n",
       "      <td>319.000000</td>\n",
       "      <td>3.000000</td>\n",
       "      <td>-1.000000</td>\n",
       "      <td>0.000000</td>\n",
       "    </tr>\n",
       "    <tr>\n",
       "      <th>max</th>\n",
       "      <td>95.000000</td>\n",
       "      <td>102127.000000</td>\n",
       "      <td>31.000000</td>\n",
       "      <td>4918.000000</td>\n",
       "      <td>63.000000</td>\n",
       "      <td>871.000000</td>\n",
       "      <td>275.000000</td>\n",
       "    </tr>\n",
       "  </tbody>\n",
       "</table>\n",
       "</div>"
      ],
      "text/plain": [
       "                age        balance           day      duration      campaign  \\\n",
       "count  45211.000000   45211.000000  45211.000000  45211.000000  45211.000000   \n",
       "mean      40.936210    1362.272058     15.806419    258.163080      2.763841   \n",
       "std       10.618762    3044.765829      8.322476    257.527812      3.098021   \n",
       "min       18.000000   -8019.000000      1.000000      0.000000      1.000000   \n",
       "25%       33.000000      72.000000      8.000000    103.000000      1.000000   \n",
       "50%       39.000000     448.000000     16.000000    180.000000      2.000000   \n",
       "75%       48.000000    1428.000000     21.000000    319.000000      3.000000   \n",
       "max       95.000000  102127.000000     31.000000   4918.000000     63.000000   \n",
       "\n",
       "              pdays      previous  \n",
       "count  45211.000000  45211.000000  \n",
       "mean      40.197828      0.580323  \n",
       "std      100.128746      2.303441  \n",
       "min       -1.000000      0.000000  \n",
       "25%       -1.000000      0.000000  \n",
       "50%       -1.000000      0.000000  \n",
       "75%       -1.000000      0.000000  \n",
       "max      871.000000    275.000000  "
      ]
     },
     "execution_count": 34,
     "metadata": {},
     "output_type": "execute_result"
    }
   ],
   "source": [
    "df.describe() #Statistical Summary of columns"
   ]
  },
  {
   "cell_type": "code",
   "execution_count": 35,
   "id": "ddbcfe73-ec21-4a02-a0a8-64500390b575",
   "metadata": {},
   "outputs": [
    {
     "name": "stdout",
     "output_type": "stream",
     "text": [
      "<class 'pandas.core.frame.DataFrame'>\n",
      "RangeIndex: 45211 entries, 0 to 45210\n",
      "Data columns (total 17 columns):\n",
      " #   Column     Non-Null Count  Dtype \n",
      "---  ------     --------------  ----- \n",
      " 0   age        45211 non-null  int64 \n",
      " 1   job        45211 non-null  object\n",
      " 2   marital    45211 non-null  object\n",
      " 3   education  45211 non-null  object\n",
      " 4   default    45211 non-null  object\n",
      " 5   balance    45211 non-null  int64 \n",
      " 6   housing    45211 non-null  object\n",
      " 7   loan       45211 non-null  object\n",
      " 8   contact    45211 non-null  object\n",
      " 9   day        45211 non-null  int64 \n",
      " 10  month      45211 non-null  object\n",
      " 11  duration   45211 non-null  int64 \n",
      " 12  campaign   45211 non-null  int64 \n",
      " 13  pdays      45211 non-null  int64 \n",
      " 14  previous   45211 non-null  int64 \n",
      " 15  poutcome   45211 non-null  object\n",
      " 16  y          45211 non-null  object\n",
      "dtypes: int64(7), object(10)\n",
      "memory usage: 5.9+ MB\n"
     ]
    }
   ],
   "source": [
    "df.info() #information abour data set"
   ]
  },
  {
   "cell_type": "markdown",
   "id": "ddd83a92-1ff5-44e7-b53e-994684bb55b9",
   "metadata": {},
   "source": [
    "# Cleaning the dataset "
   ]
  },
  {
   "cell_type": "code",
   "execution_count": 36,
   "id": "2af798fc-8431-45ba-9063-734e6ba21b22",
   "metadata": {},
   "outputs": [],
   "source": [
    "df.columns = [s.strip().replace(' ', '_') for s in df.columns] #replacing colums names which has spaces with the \"_\""
   ]
  },
  {
   "cell_type": "markdown",
   "id": "5e92df50-ca18-4327-b96f-27cfa5a06666",
   "metadata": {},
   "source": [
    "#### We have changed the coloumn names here in a more readable and reliable way by adding an underscore in between the spaces. This will be more lookable and ideal."
   ]
  },
  {
   "cell_type": "code",
   "execution_count": 37,
   "id": "a2873095-3490-4369-ae52-1934d7a0b68f",
   "metadata": {},
   "outputs": [
    {
     "data": {
      "text/plain": [
       "age          0\n",
       "job          0\n",
       "marital      0\n",
       "education    0\n",
       "default      0\n",
       "balance      0\n",
       "housing      0\n",
       "loan         0\n",
       "contact      0\n",
       "day          0\n",
       "month        0\n",
       "duration     0\n",
       "campaign     0\n",
       "pdays        0\n",
       "previous     0\n",
       "poutcome     0\n",
       "y            0\n",
       "dtype: int64"
      ]
     },
     "execution_count": 37,
     "metadata": {},
     "output_type": "execute_result"
    }
   ],
   "source": [
    "df.isna().sum() #Checking for null values"
   ]
  },
  {
   "cell_type": "markdown",
   "id": "be52ba92-4736-4d95-ba3a-16684121eb80",
   "metadata": {},
   "source": [
    "#### From the above output, we could see that We do not have any NA values in dataset."
   ]
  },
  {
   "cell_type": "code",
   "execution_count": 38,
   "id": "97f2128b-b449-4a52-a864-f026830a1b1b",
   "metadata": {},
   "outputs": [
    {
     "data": {
      "text/plain": [
       "age           int64\n",
       "job          object\n",
       "marital      object\n",
       "education    object\n",
       "default      object\n",
       "balance       int64\n",
       "housing      object\n",
       "loan         object\n",
       "contact      object\n",
       "day           int64\n",
       "month        object\n",
       "duration      int64\n",
       "campaign      int64\n",
       "pdays         int64\n",
       "previous      int64\n",
       "poutcome     object\n",
       "y            object\n",
       "dtype: object"
      ]
     },
     "execution_count": 38,
     "metadata": {},
     "output_type": "execute_result"
    }
   ],
   "source": [
    "df.dtypes"
   ]
  },
  {
   "cell_type": "markdown",
   "id": "23fc445e-26c8-47f1-a186-718124ac1382",
   "metadata": {},
   "source": [
    "# Transforming the data"
   ]
  },
  {
   "cell_type": "code",
   "execution_count": 39,
   "id": "a106949b-d48d-4836-a31e-3950cec3c2b0",
   "metadata": {},
   "outputs": [],
   "source": [
    "Category_Features=['job','marital','education','default','housing','loan','contact','month','poutcome']"
   ]
  },
  {
   "cell_type": "markdown",
   "id": "2195f68c-18b9-4c90-9eb9-c166b67c985c",
   "metadata": {},
   "source": [
    "#### We are grouping all the object type variables into a list here to change their datatype to category which is feasible to find the relationship between the variables."
   ]
  },
  {
   "cell_type": "code",
   "execution_count": 40,
   "id": "e1565fb9-a74c-44db-862f-4e82a23f4d22",
   "metadata": {},
   "outputs": [
    {
     "data": {
      "text/plain": [
       "age             int64\n",
       "job          category\n",
       "marital      category\n",
       "education    category\n",
       "default      category\n",
       "balance         int64\n",
       "housing      category\n",
       "loan         category\n",
       "contact      category\n",
       "day             int64\n",
       "month        category\n",
       "duration        int64\n",
       "campaign        int64\n",
       "pdays           int64\n",
       "previous        int64\n",
       "poutcome     category\n",
       "y            category\n",
       "dtype: object"
      ]
     },
     "execution_count": 40,
     "metadata": {},
     "output_type": "execute_result"
    }
   ],
   "source": [
    "#lopping through every category.\n",
    "for i in Category_Features+['y']:\n",
    "    df[i] = df[i].astype('category') #Casting from object class to category class.\n",
    "df.dtypes #Cheching all columns Data types."
   ]
  },
  {
   "cell_type": "code",
   "execution_count": 41,
   "id": "39c3c752-6ad0-4163-909c-578466cb7cb4",
   "metadata": {},
   "outputs": [
    {
     "data": {
      "text/plain": [
       "age             int64\n",
       "job           float64\n",
       "marital       float64\n",
       "education     float64\n",
       "default       float64\n",
       "balance         int64\n",
       "housing       float64\n",
       "loan          float64\n",
       "contact       float64\n",
       "day             int64\n",
       "month         float64\n",
       "duration        int64\n",
       "campaign        int64\n",
       "pdays           int64\n",
       "previous        int64\n",
       "poutcome      float64\n",
       "y            category\n",
       "dtype: object"
      ]
     },
     "execution_count": 41,
     "metadata": {},
     "output_type": "execute_result"
    }
   ],
   "source": [
    "enc = OrdinalEncoder() #Creating instace of OrdinalEncoder.\n",
    "for i in Category_Features:\n",
    "    df[i]=enc.fit_transform(df[[i]]) #Coverting to numerical.\n",
    "df.dtypes #Cheching all columns Data types."
   ]
  },
  {
   "cell_type": "markdown",
   "id": "ae924773-2840-40e9-b59b-d0fc8b2164c7",
   "metadata": {},
   "source": [
    "#### Here, we will perform the ordinal encoding on the predictor categorical variable to encode them to numerical."
   ]
  },
  {
   "cell_type": "code",
   "execution_count": 42,
   "id": "365ad96e-9097-4014-8201-8fbee1a02626",
   "metadata": {},
   "outputs": [
    {
     "data": {
      "text/plain": [
       "age            int64\n",
       "job          float64\n",
       "marital      float64\n",
       "education    float64\n",
       "default      float64\n",
       "balance        int64\n",
       "housing      float64\n",
       "loan         float64\n",
       "contact      float64\n",
       "day            int64\n",
       "month        float64\n",
       "duration       int64\n",
       "campaign       int64\n",
       "pdays          int64\n",
       "previous       int64\n",
       "poutcome     float64\n",
       "y              int32\n",
       "dtype: object"
      ]
     },
     "execution_count": 42,
     "metadata": {},
     "output_type": "execute_result"
    }
   ],
   "source": [
    "target = 'y'\n",
    "predictors = list(df.columns) #Assigning Predictors and coverting pandas series object to list.\n",
    "predictors.remove(target)\n",
    "#LableEncoding for target variable\n",
    "enc = LabelEncoder() \n",
    "df[target]=enc.fit_transform(df[target])\n",
    "df.dtypes"
   ]
  },
  {
   "cell_type": "markdown",
   "id": "ce2e8a3f-7786-4ca3-aea2-ef517ef9b2e5",
   "metadata": {},
   "source": [
    "#### Performing Label encoding on the target variables to turn the categorical variables to numerical."
   ]
  },
  {
   "cell_type": "markdown",
   "id": "ac056cc4-a4a3-4c3c-899e-4490359ac012",
   "metadata": {},
   "source": [
    "# Splitting the data into training and validation sets"
   ]
  },
  {
   "cell_type": "code",
   "execution_count": 43,
   "id": "82afd83e-fe23-4f57-9670-05810bf5a79e",
   "metadata": {},
   "outputs": [],
   "source": [
    "X=df[predictors]\n",
    "y=df[target]\n",
    "train_X, test_X, train_y, test_y = train_test_split(X, y, test_size=0.3, random_state=1)"
   ]
  },
  {
   "cell_type": "markdown",
   "id": "5aaad939-f1c9-4e09-a9b9-c86486345683",
   "metadata": {},
   "source": [
    "#### We are splitting the data into training and test here. The training takes 70% of the population data, whereas test takes the remaining 30%. "
   ]
  },
  {
   "cell_type": "markdown",
   "id": "65a62abd-77ae-45e0-8024-a1cb6c76d283",
   "metadata": {},
   "source": [
    "# Data Balancing"
   ]
  },
  {
   "cell_type": "code",
   "execution_count": 44,
   "id": "58e120a4-2d58-41d0-bc27-ee4621bceea8",
   "metadata": {},
   "outputs": [
    {
     "data": {
      "text/plain": [
       "0    3738\n",
       "1    3738\n",
       "Name: y, dtype: int64"
      ]
     },
     "execution_count": 44,
     "metadata": {},
     "output_type": "execute_result"
    }
   ],
   "source": [
    "from imblearn.under_sampling import NearMiss\n",
    "undersample = NearMiss(version=1, n_neighbors=3)\n",
    "train_X, train_y = undersample.fit_resample(train_X, train_y)\n",
    "train_y.value_counts()"
   ]
  },
  {
   "cell_type": "markdown",
   "id": "a1b044c7-56ec-40a9-92ec-115fe99efe71",
   "metadata": {},
   "source": [
    "#### Since, the data is not balanced with respect to the target variable, we have performed the undersampling on the data to avoid the discrepancy between observations for the target."
   ]
  },
  {
   "cell_type": "code",
   "execution_count": 45,
   "id": "c7808141-1876-4f6c-8dfb-858f11ce3f53",
   "metadata": {},
   "outputs": [
    {
     "data": {
      "text/html": [
       "<div>\n",
       "<style scoped>\n",
       "    .dataframe tbody tr th:only-of-type {\n",
       "        vertical-align: middle;\n",
       "    }\n",
       "\n",
       "    .dataframe tbody tr th {\n",
       "        vertical-align: top;\n",
       "    }\n",
       "\n",
       "    .dataframe thead th {\n",
       "        text-align: right;\n",
       "    }\n",
       "</style>\n",
       "<table border=\"1\" class=\"dataframe\">\n",
       "  <thead>\n",
       "    <tr style=\"text-align: right;\">\n",
       "      <th></th>\n",
       "      <th>age</th>\n",
       "      <th>balance</th>\n",
       "      <th>day</th>\n",
       "      <th>duration</th>\n",
       "      <th>campaign</th>\n",
       "      <th>pdays</th>\n",
       "      <th>previous</th>\n",
       "    </tr>\n",
       "  </thead>\n",
       "  <tbody>\n",
       "    <tr>\n",
       "      <th>0</th>\n",
       "      <td>26</td>\n",
       "      <td>0</td>\n",
       "      <td>6</td>\n",
       "      <td>320</td>\n",
       "      <td>3</td>\n",
       "      <td>-1</td>\n",
       "      <td>0</td>\n",
       "    </tr>\n",
       "    <tr>\n",
       "      <th>1</th>\n",
       "      <td>30</td>\n",
       "      <td>0</td>\n",
       "      <td>8</td>\n",
       "      <td>320</td>\n",
       "      <td>1</td>\n",
       "      <td>-1</td>\n",
       "      <td>0</td>\n",
       "    </tr>\n",
       "    <tr>\n",
       "      <th>2</th>\n",
       "      <td>35</td>\n",
       "      <td>0</td>\n",
       "      <td>5</td>\n",
       "      <td>310</td>\n",
       "      <td>1</td>\n",
       "      <td>-1</td>\n",
       "      <td>0</td>\n",
       "    </tr>\n",
       "    <tr>\n",
       "      <th>3</th>\n",
       "      <td>32</td>\n",
       "      <td>0</td>\n",
       "      <td>19</td>\n",
       "      <td>188</td>\n",
       "      <td>2</td>\n",
       "      <td>-1</td>\n",
       "      <td>0</td>\n",
       "    </tr>\n",
       "    <tr>\n",
       "      <th>4</th>\n",
       "      <td>33</td>\n",
       "      <td>0</td>\n",
       "      <td>20</td>\n",
       "      <td>190</td>\n",
       "      <td>2</td>\n",
       "      <td>-1</td>\n",
       "      <td>0</td>\n",
       "    </tr>\n",
       "    <tr>\n",
       "      <th>...</th>\n",
       "      <td>...</td>\n",
       "      <td>...</td>\n",
       "      <td>...</td>\n",
       "      <td>...</td>\n",
       "      <td>...</td>\n",
       "      <td>...</td>\n",
       "      <td>...</td>\n",
       "    </tr>\n",
       "    <tr>\n",
       "      <th>7471</th>\n",
       "      <td>25</td>\n",
       "      <td>-191</td>\n",
       "      <td>19</td>\n",
       "      <td>958</td>\n",
       "      <td>7</td>\n",
       "      <td>-1</td>\n",
       "      <td>0</td>\n",
       "    </tr>\n",
       "    <tr>\n",
       "      <th>7472</th>\n",
       "      <td>35</td>\n",
       "      <td>1162</td>\n",
       "      <td>30</td>\n",
       "      <td>175</td>\n",
       "      <td>1</td>\n",
       "      <td>-1</td>\n",
       "      <td>0</td>\n",
       "    </tr>\n",
       "    <tr>\n",
       "      <th>7473</th>\n",
       "      <td>32</td>\n",
       "      <td>1138</td>\n",
       "      <td>4</td>\n",
       "      <td>214</td>\n",
       "      <td>3</td>\n",
       "      <td>83</td>\n",
       "      <td>3</td>\n",
       "    </tr>\n",
       "    <tr>\n",
       "      <th>7474</th>\n",
       "      <td>61</td>\n",
       "      <td>1853</td>\n",
       "      <td>10</td>\n",
       "      <td>520</td>\n",
       "      <td>1</td>\n",
       "      <td>181</td>\n",
       "      <td>2</td>\n",
       "    </tr>\n",
       "    <tr>\n",
       "      <th>7475</th>\n",
       "      <td>60</td>\n",
       "      <td>17297</td>\n",
       "      <td>26</td>\n",
       "      <td>664</td>\n",
       "      <td>11</td>\n",
       "      <td>-1</td>\n",
       "      <td>0</td>\n",
       "    </tr>\n",
       "  </tbody>\n",
       "</table>\n",
       "<p>7476 rows × 7 columns</p>\n",
       "</div>"
      ],
      "text/plain": [
       "      age  balance  day  duration  campaign  pdays  previous\n",
       "0      26        0    6       320         3     -1         0\n",
       "1      30        0    8       320         1     -1         0\n",
       "2      35        0    5       310         1     -1         0\n",
       "3      32        0   19       188         2     -1         0\n",
       "4      33        0   20       190         2     -1         0\n",
       "...   ...      ...  ...       ...       ...    ...       ...\n",
       "7471   25     -191   19       958         7     -1         0\n",
       "7472   35     1162   30       175         1     -1         0\n",
       "7473   32     1138    4       214         3     83         3\n",
       "7474   61     1853   10       520         1    181         2\n",
       "7475   60    17297   26       664        11     -1         0\n",
       "\n",
       "[7476 rows x 7 columns]"
      ]
     },
     "execution_count": 45,
     "metadata": {},
     "output_type": "execute_result"
    }
   ],
   "source": [
    "for i in Category_Features: #Removing \n",
    "    predictors.remove(i)\n",
    "predictors #Checking Predictors list.\n",
    "train_X[predictors]"
   ]
  },
  {
   "cell_type": "markdown",
   "id": "9052e759-b04e-4832-8226-00fe941a547e",
   "metadata": {},
   "source": [
    "#  Standardzation of quantitative features"
   ]
  },
  {
   "cell_type": "code",
   "execution_count": 46,
   "id": "faf2d893-94b8-49d9-a367-23328609a768",
   "metadata": {},
   "outputs": [],
   "source": [
    "# create a standard scaler and fit it to the training set of predictors\n",
    "scaler = preprocessing.StandardScaler()\n",
    "scaler.fit(train_X[predictors])\n",
    "\n",
    "# Transform the predictors of training, validation and newCustomer\n",
    "train_scaled_data= scaler.transform(train_X[predictors])\n",
    "test_scaled_data = scaler.transform(test_X[predictors])\n"
   ]
  },
  {
   "cell_type": "code",
   "execution_count": 48,
   "id": "42f3eee3-7967-4da2-b13b-ca3be2d1e965",
   "metadata": {},
   "outputs": [
    {
     "data": {
      "text/html": [
       "<div>\n",
       "<style scoped>\n",
       "    .dataframe tbody tr th:only-of-type {\n",
       "        vertical-align: middle;\n",
       "    }\n",
       "\n",
       "    .dataframe tbody tr th {\n",
       "        vertical-align: top;\n",
       "    }\n",
       "\n",
       "    .dataframe thead th {\n",
       "        text-align: right;\n",
       "    }\n",
       "</style>\n",
       "<table border=\"1\" class=\"dataframe\">\n",
       "  <thead>\n",
       "    <tr style=\"text-align: right;\">\n",
       "      <th></th>\n",
       "      <th>age</th>\n",
       "      <th>job</th>\n",
       "      <th>marital</th>\n",
       "      <th>education</th>\n",
       "      <th>default</th>\n",
       "      <th>balance</th>\n",
       "      <th>housing</th>\n",
       "      <th>loan</th>\n",
       "      <th>contact</th>\n",
       "      <th>day</th>\n",
       "      <th>month</th>\n",
       "      <th>duration</th>\n",
       "      <th>campaign</th>\n",
       "      <th>pdays</th>\n",
       "      <th>previous</th>\n",
       "      <th>poutcome</th>\n",
       "    </tr>\n",
       "  </thead>\n",
       "  <tbody>\n",
       "    <tr>\n",
       "      <th>0</th>\n",
       "      <td>-1.228237</td>\n",
       "      <td>1.0</td>\n",
       "      <td>1.0</td>\n",
       "      <td>1.0</td>\n",
       "      <td>0.0</td>\n",
       "      <td>-0.350235</td>\n",
       "      <td>1.0</td>\n",
       "      <td>0.0</td>\n",
       "      <td>0.0</td>\n",
       "      <td>-1.131881</td>\n",
       "      <td>8.0</td>\n",
       "      <td>-0.215488</td>\n",
       "      <td>0.361253</td>\n",
       "      <td>-0.381633</td>\n",
       "      <td>-0.318787</td>\n",
       "      <td>3.0</td>\n",
       "    </tr>\n",
       "    <tr>\n",
       "      <th>1</th>\n",
       "      <td>-0.880235</td>\n",
       "      <td>1.0</td>\n",
       "      <td>0.0</td>\n",
       "      <td>1.0</td>\n",
       "      <td>0.0</td>\n",
       "      <td>-0.350235</td>\n",
       "      <td>0.0</td>\n",
       "      <td>1.0</td>\n",
       "      <td>0.0</td>\n",
       "      <td>-0.883172</td>\n",
       "      <td>5.0</td>\n",
       "      <td>-0.215488</td>\n",
       "      <td>-0.653867</td>\n",
       "      <td>-0.381633</td>\n",
       "      <td>-0.318787</td>\n",
       "      <td>3.0</td>\n",
       "    </tr>\n",
       "    <tr>\n",
       "      <th>2</th>\n",
       "      <td>-0.445232</td>\n",
       "      <td>4.0</td>\n",
       "      <td>1.0</td>\n",
       "      <td>2.0</td>\n",
       "      <td>0.0</td>\n",
       "      <td>-0.350235</td>\n",
       "      <td>1.0</td>\n",
       "      <td>0.0</td>\n",
       "      <td>0.0</td>\n",
       "      <td>-1.256235</td>\n",
       "      <td>8.0</td>\n",
       "      <td>-0.245237</td>\n",
       "      <td>-0.653867</td>\n",
       "      <td>-0.381633</td>\n",
       "      <td>-0.318787</td>\n",
       "      <td>3.0</td>\n",
       "    </tr>\n",
       "    <tr>\n",
       "      <th>3</th>\n",
       "      <td>-0.706234</td>\n",
       "      <td>1.0</td>\n",
       "      <td>1.0</td>\n",
       "      <td>1.0</td>\n",
       "      <td>0.0</td>\n",
       "      <td>-0.350235</td>\n",
       "      <td>1.0</td>\n",
       "      <td>0.0</td>\n",
       "      <td>0.0</td>\n",
       "      <td>0.484726</td>\n",
       "      <td>9.0</td>\n",
       "      <td>-0.608172</td>\n",
       "      <td>-0.146307</td>\n",
       "      <td>-0.381633</td>\n",
       "      <td>-0.318787</td>\n",
       "      <td>3.0</td>\n",
       "    </tr>\n",
       "    <tr>\n",
       "      <th>4</th>\n",
       "      <td>-0.619233</td>\n",
       "      <td>4.0</td>\n",
       "      <td>2.0</td>\n",
       "      <td>1.0</td>\n",
       "      <td>0.0</td>\n",
       "      <td>-0.350235</td>\n",
       "      <td>0.0</td>\n",
       "      <td>0.0</td>\n",
       "      <td>2.0</td>\n",
       "      <td>0.609080</td>\n",
       "      <td>8.0</td>\n",
       "      <td>-0.602223</td>\n",
       "      <td>-0.146307</td>\n",
       "      <td>-0.381633</td>\n",
       "      <td>-0.318787</td>\n",
       "      <td>3.0</td>\n",
       "    </tr>\n",
       "    <tr>\n",
       "      <th>...</th>\n",
       "      <td>...</td>\n",
       "      <td>...</td>\n",
       "      <td>...</td>\n",
       "      <td>...</td>\n",
       "      <td>...</td>\n",
       "      <td>...</td>\n",
       "      <td>...</td>\n",
       "      <td>...</td>\n",
       "      <td>...</td>\n",
       "      <td>...</td>\n",
       "      <td>...</td>\n",
       "      <td>...</td>\n",
       "      <td>...</td>\n",
       "      <td>...</td>\n",
       "      <td>...</td>\n",
       "      <td>...</td>\n",
       "    </tr>\n",
       "    <tr>\n",
       "      <th>7471</th>\n",
       "      <td>-1.315238</td>\n",
       "      <td>1.0</td>\n",
       "      <td>2.0</td>\n",
       "      <td>1.0</td>\n",
       "      <td>0.0</td>\n",
       "      <td>-0.417122</td>\n",
       "      <td>1.0</td>\n",
       "      <td>0.0</td>\n",
       "      <td>2.0</td>\n",
       "      <td>0.484726</td>\n",
       "      <td>6.0</td>\n",
       "      <td>1.682487</td>\n",
       "      <td>2.391493</td>\n",
       "      <td>-0.381633</td>\n",
       "      <td>-0.318787</td>\n",
       "      <td>3.0</td>\n",
       "    </tr>\n",
       "    <tr>\n",
       "      <th>7472</th>\n",
       "      <td>-0.445232</td>\n",
       "      <td>4.0</td>\n",
       "      <td>2.0</td>\n",
       "      <td>2.0</td>\n",
       "      <td>0.0</td>\n",
       "      <td>0.056685</td>\n",
       "      <td>0.0</td>\n",
       "      <td>0.0</td>\n",
       "      <td>0.0</td>\n",
       "      <td>1.852624</td>\n",
       "      <td>0.0</td>\n",
       "      <td>-0.646846</td>\n",
       "      <td>-0.653867</td>\n",
       "      <td>-0.381633</td>\n",
       "      <td>-0.318787</td>\n",
       "      <td>3.0</td>\n",
       "    </tr>\n",
       "    <tr>\n",
       "      <th>7473</th>\n",
       "      <td>-0.706234</td>\n",
       "      <td>8.0</td>\n",
       "      <td>2.0</td>\n",
       "      <td>2.0</td>\n",
       "      <td>0.0</td>\n",
       "      <td>0.048281</td>\n",
       "      <td>0.0</td>\n",
       "      <td>0.0</td>\n",
       "      <td>0.0</td>\n",
       "      <td>-1.380590</td>\n",
       "      <td>8.0</td>\n",
       "      <td>-0.530825</td>\n",
       "      <td>0.361253</td>\n",
       "      <td>0.544559</td>\n",
       "      <td>1.346658</td>\n",
       "      <td>2.0</td>\n",
       "    </tr>\n",
       "    <tr>\n",
       "      <th>7474</th>\n",
       "      <td>1.816783</td>\n",
       "      <td>5.0</td>\n",
       "      <td>1.0</td>\n",
       "      <td>1.0</td>\n",
       "      <td>0.0</td>\n",
       "      <td>0.298667</td>\n",
       "      <td>0.0</td>\n",
       "      <td>0.0</td>\n",
       "      <td>1.0</td>\n",
       "      <td>-0.634463</td>\n",
       "      <td>1.0</td>\n",
       "      <td>0.379488</td>\n",
       "      <td>-0.653867</td>\n",
       "      <td>1.625115</td>\n",
       "      <td>0.791509</td>\n",
       "      <td>2.0</td>\n",
       "    </tr>\n",
       "    <tr>\n",
       "      <th>7475</th>\n",
       "      <td>1.729783</td>\n",
       "      <td>11.0</td>\n",
       "      <td>1.0</td>\n",
       "      <td>3.0</td>\n",
       "      <td>0.0</td>\n",
       "      <td>5.706999</td>\n",
       "      <td>0.0</td>\n",
       "      <td>0.0</td>\n",
       "      <td>0.0</td>\n",
       "      <td>1.355206</td>\n",
       "      <td>1.0</td>\n",
       "      <td>0.807871</td>\n",
       "      <td>4.421733</td>\n",
       "      <td>-0.381633</td>\n",
       "      <td>-0.318787</td>\n",
       "      <td>3.0</td>\n",
       "    </tr>\n",
       "  </tbody>\n",
       "</table>\n",
       "<p>7476 rows × 16 columns</p>\n",
       "</div>"
      ],
      "text/plain": [
       "           age   job  marital  education  default   balance  housing  loan  \\\n",
       "0    -1.228237   1.0      1.0        1.0      0.0 -0.350235      1.0   0.0   \n",
       "1    -0.880235   1.0      0.0        1.0      0.0 -0.350235      0.0   1.0   \n",
       "2    -0.445232   4.0      1.0        2.0      0.0 -0.350235      1.0   0.0   \n",
       "3    -0.706234   1.0      1.0        1.0      0.0 -0.350235      1.0   0.0   \n",
       "4    -0.619233   4.0      2.0        1.0      0.0 -0.350235      0.0   0.0   \n",
       "...        ...   ...      ...        ...      ...       ...      ...   ...   \n",
       "7471 -1.315238   1.0      2.0        1.0      0.0 -0.417122      1.0   0.0   \n",
       "7472 -0.445232   4.0      2.0        2.0      0.0  0.056685      0.0   0.0   \n",
       "7473 -0.706234   8.0      2.0        2.0      0.0  0.048281      0.0   0.0   \n",
       "7474  1.816783   5.0      1.0        1.0      0.0  0.298667      0.0   0.0   \n",
       "7475  1.729783  11.0      1.0        3.0      0.0  5.706999      0.0   0.0   \n",
       "\n",
       "      contact       day  month  duration  campaign     pdays  previous  \\\n",
       "0         0.0 -1.131881    8.0 -0.215488  0.361253 -0.381633 -0.318787   \n",
       "1         0.0 -0.883172    5.0 -0.215488 -0.653867 -0.381633 -0.318787   \n",
       "2         0.0 -1.256235    8.0 -0.245237 -0.653867 -0.381633 -0.318787   \n",
       "3         0.0  0.484726    9.0 -0.608172 -0.146307 -0.381633 -0.318787   \n",
       "4         2.0  0.609080    8.0 -0.602223 -0.146307 -0.381633 -0.318787   \n",
       "...       ...       ...    ...       ...       ...       ...       ...   \n",
       "7471      2.0  0.484726    6.0  1.682487  2.391493 -0.381633 -0.318787   \n",
       "7472      0.0  1.852624    0.0 -0.646846 -0.653867 -0.381633 -0.318787   \n",
       "7473      0.0 -1.380590    8.0 -0.530825  0.361253  0.544559  1.346658   \n",
       "7474      1.0 -0.634463    1.0  0.379488 -0.653867  1.625115  0.791509   \n",
       "7475      0.0  1.355206    1.0  0.807871  4.421733 -0.381633 -0.318787   \n",
       "\n",
       "      poutcome  \n",
       "0          3.0  \n",
       "1          3.0  \n",
       "2          3.0  \n",
       "3          3.0  \n",
       "4          3.0  \n",
       "...        ...  \n",
       "7471       3.0  \n",
       "7472       3.0  \n",
       "7473       2.0  \n",
       "7474       2.0  \n",
       "7475       3.0  \n",
       "\n",
       "[7476 rows x 16 columns]"
      ]
     },
     "execution_count": 48,
     "metadata": {},
     "output_type": "execute_result"
    }
   ],
   "source": [
    "s=0\n",
    "for i in predictors:\n",
    "    train_X[i]=train_scaled_data[:,s]\n",
    "    test_X[i]=test_scaled_data[:,s]\n",
    "    s=s+1\n",
    "train_X"
   ]
  },
  {
   "cell_type": "code",
   "execution_count": 49,
   "id": "3b3af1f6-aa1e-4dc2-aa1f-fafe73737a28",
   "metadata": {},
   "outputs": [],
   "source": [
    "Algorithms = ['knn','knn','DecisionTree','DecisionTree','RandomForest','RandomForest','AdaBoostClassifier','AdaBoostClassifier','GradientBoosting','GradientBoosting','XGBClassifier','XGBClassifier','LogisticRegression','LogisticRegression']\n",
    "Recall_values =[]"
   ]
  },
  {
   "cell_type": "markdown",
   "id": "d28df7ae-c98e-4f7b-b718-2645b0fc9381",
   "metadata": {},
   "source": [
    "#### Since, continuous variables are measured in different scales we performed standardization to get them into the same scale. Here we have performed the same on train_predictors and validation_predictors. Firstly, we have removed our categorical variables and the target variable, because we should not perform standardization on them. Later, we will append those category features list to the standardized dataframe. Finally, we get a standardized dataframe."
   ]
  },
  {
   "cell_type": "markdown",
   "id": "b4c8e28b-4184-4836-8c72-32f43c0befc7",
   "metadata": {},
   "source": [
    "#### False Positive: The actual outcome was that the client did not subscribe to the product, but the model predicted that the customer would. The concern here is that the marketing team will target consumers that do not need to be targeted. The campaign team wastes time and effort, while the client is bombarded with advertisements that are unnecessary.\n",
    "\n",
    "#### False Negative: The actual outcome was that the client subscribed to the product, but the model predicted that the customer would not subscribe to the product. As a result, the bank will suffer a significant loss because they are missing one of their investors for the product.\n",
    "\n",
    "#### Here, FP is preferable over FN since we have less loss with false positive than with false negatives, thus we will concentrate on 'Recall'.\n"
   ]
  },
  {
   "cell_type": "markdown",
   "id": "8886e6bf-9af7-4e17-b586-cabfff41878d",
   "metadata": {},
   "source": [
    "# Prediction with K-NN"
   ]
  },
  {
   "cell_type": "code",
   "execution_count": 50,
   "id": "1438a0a1-136b-43b8-95dd-3905b4fea137",
   "metadata": {},
   "outputs": [
    {
     "name": "stdout",
     "output_type": "stream",
     "text": [
      "Using default parameters : Recall score:\n",
      "0.8079\n"
     ]
    }
   ],
   "source": [
    "knn = KNeighborsClassifier()\n",
    "_ = knn.fit(train_X, train_y)\n",
    "y_pred = knn.predict(test_X)\n",
    "print(f\"Using default parameters : Recall score:\\n{recall_score(test_y,y_pred):.4f}\")#Checking model Recall score.\n",
    "Recall_values.append(recall_score(test_y,y_pred))"
   ]
  },
  {
   "cell_type": "markdown",
   "id": "c8414805-46e1-4b19-bd32-7a4a19084725",
   "metadata": {},
   "source": [
    "#### We have applied the K-nn model on our training dataset which is actually splitted from the original dataset and found the recall value to be 0.8079."
   ]
  },
  {
   "cell_type": "code",
   "execution_count": 51,
   "id": "b6b15c1c-a1bd-4eaf-9c81-b6277a813608",
   "metadata": {},
   "outputs": [
    {
     "name": "stdout",
     "output_type": "stream",
     "text": [
      "recall score:  0.8111410589095497\n",
      "parameters:  {'metric': 'cosine', 'n_neighbors': 3, 'weights': 'distance'}\n",
      "CPU times: total: 36.8 s\n",
      "Wall time: 2min 34s\n"
     ]
    }
   ],
   "source": [
    "%%time\n",
    "\n",
    "score_measure = 'recall'\n",
    "k_fold = 10\n",
    "# Start with an initial guess for parameters\n",
    "param_grid = {\n",
    "     'n_neighbors': list(range(1,round(np.sqrt(len(df))),2)),\n",
    "    'metric': ['euclidean', 'cosine','manhattan','minkowski'],\n",
    "    'weights':['uniform','distance']\n",
    "}\n",
    "best_grid_search_model = GridSearchCV(KNeighborsClassifier(), param_grid, cv=k_fold, scoring=score_measure,\n",
    "                          n_jobs=-1,error_score='raise')  # n_jobs=-1 will utilize all available CPUs \n",
    "_=best_grid_search_model.fit(train_X, train_y)\n",
    "print(score_measure, 'score: ', best_grid_search_model.best_score_)\n",
    "print('parameters: ', best_grid_search_model.best_params_)\n",
    "\n",
    "Best_recall_knn = best_grid_search_model.best_score_\n",
    "Recall_values.append(best_grid_search_model.best_score_)"
   ]
  },
  {
   "cell_type": "markdown",
   "id": "1ef9636c-5b2c-4754-823b-48125cf746a4",
   "metadata": {},
   "source": [
    "#### From the above observations we can depict that the best value of k is found to be at k=3 with the recall of around 81% by using cosine metric. Where recall is improved when compared to before after performing k fold which means it has improved model performance."
   ]
  },
  {
   "cell_type": "code",
   "execution_count": 52,
   "id": "aad989d2-f445-477d-bfe6-9384cce000ac",
   "metadata": {},
   "outputs": [],
   "source": [
    "# create the training set and the test set \n",
    "train_X, test_X, train_y, test_y = train_test_split(X, y, test_size=0.3, random_state=1)"
   ]
  },
  {
   "cell_type": "code",
   "execution_count": 53,
   "id": "a05bf8b0-79b2-44b1-8c3a-639b0f9befcf",
   "metadata": {},
   "outputs": [
    {
     "data": {
      "text/plain": [
       "0    3738\n",
       "1    3738\n",
       "Name: y, dtype: int64"
      ]
     },
     "execution_count": 53,
     "metadata": {},
     "output_type": "execute_result"
    }
   ],
   "source": [
    "from imblearn.under_sampling import NearMiss\n",
    "undersample = NearMiss(version=1, n_neighbors=3)\n",
    "train_X, train_y = undersample.fit_resample(train_X, train_y)\n",
    "train_y.value_counts()"
   ]
  },
  {
   "cell_type": "markdown",
   "id": "5aa1b6a3-c642-43d7-9f3e-337254824da0",
   "metadata": {},
   "source": [
    "# Decision Tree "
   ]
  },
  {
   "cell_type": "code",
   "execution_count": 54,
   "id": "0120b9ad-5c36-4b90-a251-dca3eec83dfa",
   "metadata": {},
   "outputs": [
    {
     "name": "stdout",
     "output_type": "stream",
     "text": [
      "Using default parameters : Recall score:\n",
      "0.8839\n"
     ]
    }
   ],
   "source": [
    "#Decision Tree \n",
    "dtree=DecisionTreeClassifier(random_state=3)\n",
    "_ = dtree.fit(train_X, train_y)\n",
    "y_pred = dtree.predict(test_X)\n",
    "print(f\"Using default parameters : Recall score:\\n{recall_score(test_y,y_pred):.4f}\")#Checking model Recall score.\n",
    "Recall_values.append(recall_score(test_y,y_pred))"
   ]
  },
  {
   "cell_type": "code",
   "execution_count": 55,
   "id": "1a75d2a1-c838-4fc4-9ebf-225df9cec39d",
   "metadata": {},
   "outputs": [
    {
     "name": "stdout",
     "output_type": "stream",
     "text": [
      "Fitting 10 folds for each of 5880 candidates, totalling 58800 fits\n",
      "recall score:  0.8927269859930325\n",
      "parameters:  {'criterion': 'gini', 'max_depth': 30, 'min_samples_leaf': 7, 'min_samples_split': 6}\n",
      "CPU times: total: 57.9 s\n",
      "Wall time: 3min 26s\n"
     ]
    }
   ],
   "source": [
    "%%time\n",
    "score_measure = 'recall'\n",
    "k_fold = 10\n",
    "\n",
    "param_grid = {\n",
    "\n",
    "    'criterion':  ['gini','entropy','log_loss'],\n",
    "    'max_depth':  [2]+list(range(5,50,5)),\n",
    "     'min_samples_leaf': range(2,len(train_X.columns),1) , \n",
    "     'min_samples_split': range(2,len(train_X.columns),1)\n",
    "    \n",
    "\n",
    "}\n",
    "\n",
    "best_grid_search_model = GridSearchCV(estimator=DecisionTreeClassifier(),param_grid=param_grid,cv=k_fold, n_jobs=-1,verbose=1,scoring=score_measure)\n",
    "\n",
    "_ = best_grid_search_model.fit(train_X, train_y)\n",
    "\n",
    "print(score_measure, 'score: ', best_grid_search_model.best_score_)\n",
    "\n",
    "print('parameters: ', best_grid_search_model.best_params_)\n",
    "Best_recall_DT = best_grid_search_model.best_score_\n",
    "Recall_values.append(best_grid_search_model.best_score_)"
   ]
  },
  {
   "cell_type": "markdown",
   "id": "e0a262d7-4fcb-4053-b4f3-89f7123695a1",
   "metadata": {},
   "source": [
    "#### Here after performing the analysis on the splitted data, we were able to get the value of the performace metrics here and found that the recall is found to be around 88% for decision tree, and after performing k- fold it increased its recall rate from 88% to 89%. Eventhough this model took more time for computations than the above, this provided the best reult than the prior models."
   ]
  },
  {
   "cell_type": "markdown",
   "id": "c263de83-fc6d-4528-b4e5-20b985dedf99",
   "metadata": {},
   "source": [
    "# Random Forest"
   ]
  },
  {
   "cell_type": "code",
   "execution_count": 56,
   "id": "c3e0bcf8-9193-4e4b-bc92-afd5cd5e4630",
   "metadata": {},
   "outputs": [
    {
     "name": "stdout",
     "output_type": "stream",
     "text": [
      "Using default parameters : Recall score:\n",
      "0.8994\n"
     ]
    }
   ],
   "source": [
    "#Random Forest\n",
    "rforest = RandomForestClassifier(random_state=1)\n",
    "_ = rforest.fit(train_X, train_y)\n",
    "y_pred = rforest.predict(test_X)\n",
    "print(f\"Using default parameters : Recall score:\\n{recall_score(test_y,y_pred):.4f}\")#Checking model Recall score.\n",
    "Recall_values.append(recall_score(test_y,y_pred))"
   ]
  },
  {
   "cell_type": "code",
   "execution_count": 57,
   "id": "f225680f-d8cd-4a8c-9e0a-549d7ed5b16e",
   "metadata": {},
   "outputs": [
    {
     "name": "stdout",
     "output_type": "stream",
     "text": [
      "Fitting 10 folds for each of 72 candidates, totalling 720 fits\n",
      "recall score:  0.9114500150535477\n",
      "parameters:  {'bootstrap': True, 'max_depth': 20, 'max_features': 'auto', 'min_samples_leaf': 1, 'min_samples_split': 10, 'n_estimators': 20}\n",
      "CPU times: total: 2.97 s\n",
      "Wall time: 19.2 s\n"
     ]
    },
    {
     "name": "stderr",
     "output_type": "stream",
     "text": [
      "C:\\Users\\dsksr\\anaconda3\\lib\\site-packages\\sklearn\\ensemble\\_forest.py:427: FutureWarning: `max_features='auto'` has been deprecated in 1.1 and will be removed in 1.3. To keep the past behaviour, explicitly set `max_features='sqrt'` or remove this parameter as it is also the default value for RandomForestClassifiers and ExtraTreesClassifiers.\n",
      "  warn(\n"
     ]
    }
   ],
   "source": [
    "%%time\n",
    "score_measure = 'recall'\n",
    "k_fold = 10\n",
    "\n",
    "param_grid = {\n",
    "    \"n_estimators\": range(20,60,20),\n",
    "    'max_features':['auto', 'sqrt'],\n",
    "     'min_samples_leaf': [1, 2, 4],\n",
    "     'min_samples_split': [2, 5, 10],\n",
    "    'max_depth': [20,40],\n",
    "    'bootstrap': [True],\n",
    "\n",
    "         }\n",
    "best_grid_search_model = GridSearchCV(estimator=RandomForestClassifier(random_state=1), \n",
    "                                    scoring=score_measure, param_grid=param_grid, cv=k_fold, verbose=1,  n_jobs = -1,error_score='raise')\n",
    "_ = best_grid_search_model.fit(train_X, train_y)\n",
    "print(score_measure, 'score: ', best_grid_search_model.best_score_)\n",
    "print('parameters: ', best_grid_search_model.best_params_)\n",
    "Best_recall_RF = best_grid_search_model.best_score_\n",
    "Recall_values.append(best_grid_search_model.best_score_)"
   ]
  },
  {
   "cell_type": "markdown",
   "id": "dc63cc72-5423-4c75-9d34-b03023b18e26",
   "metadata": {},
   "source": [
    "#### We are performing random forest on the dataset to check for the further best results if possible.\n",
    "#### The Parameters that we have used here are :\n",
    "#### 1. bootstrap : It takes the values of either true or false. If true, it takes the splitted data to build each tree.\n",
    "#### 2. n_estimators : Number of trees we want to build before taking the maximum averages of predictions. Though, higher number of trees improves the performance, it will make the code to run slower. We have taken an ideal range of 20 to 100.\n",
    "#### 3. max_features : The maximum number of features Random Forest is allowed to try in individual tree.\n",
    "#### 4. max_depth : Here, we have considered the longest path between the root node and leaf node in a list.\n",
    "#### 5. min_samples_leaf : the bare minimum of samples that must be present at a leaf node.\n",
    "#### 6. min_samples_split : It is the minimum number of samples required to split an internal node.\n",
    "#### By calling the Random forest function setting all of these parameters, we could find the optimal model at the 'max_depth': 20, 'max_features': 0'max_samples': 0.5, 'n_estimators': 20 with an accuracy of 0.9114500150535477."
   ]
  },
  {
   "cell_type": "markdown",
   "id": "b88118ec-a0d1-49aa-9217-e8d2407cd737",
   "metadata": {},
   "source": [
    "# AdaBoostClassifier"
   ]
  },
  {
   "cell_type": "code",
   "execution_count": 58,
   "id": "8a71073e-4816-41b0-8914-04f9fae886e9",
   "metadata": {},
   "outputs": [
    {
     "name": "stdout",
     "output_type": "stream",
     "text": [
      "Using default parameters : Recall score:\n",
      "0.8910\n"
     ]
    }
   ],
   "source": [
    "\n",
    "#AdaBoostClassifier\n",
    "adaboost = AdaBoostClassifier(random_state=3)\n",
    "_ = adaboost.fit(train_X, train_y)\n",
    "y_pred = adaboost.predict(test_X)\n",
    "print(f\"Using default parameters : Recall score:\\n{recall_score(test_y,y_pred):.4f}\")#Checking model Recall score.\n",
    "Recall_values.append(recall_score(test_y,y_pred))\n",
    "\n"
   ]
  },
  {
   "cell_type": "code",
   "execution_count": 59,
   "id": "7031498b-2e0c-4606-b12f-bb465ff75084",
   "metadata": {},
   "outputs": [
    {
     "name": "stdout",
     "output_type": "stream",
     "text": [
      "Fitting 10 folds for each of 196 candidates, totalling 1960 fits\n",
      "recall score:  0.9047698240885435\n",
      "parameters:  {'learning_rate': 1.0, 'n_estimators': 45}\n",
      "CPU times: total: 8.78 s\n",
      "Wall time: 41.2 s\n"
     ]
    }
   ],
   "source": [
    "%%time\n",
    "score_measure = 'recall'\n",
    "k_fold = 10\n",
    "param_grid = {\n",
    "             'learning_rate': [0.7,0.8,0.9,1.0],\n",
    "           'n_estimators': range(1,50,1)\n",
    "              }\n",
    "best_grid_search_model = GridSearchCV(estimator=AdaBoostClassifier(random_state=3),\n",
    "                                    scoring=score_measure, param_grid=param_grid, cv=k_fold, verbose=1,  n_jobs = -1)\n",
    "_ = best_grid_search_model.fit(train_X, train_y)\n",
    "print(score_measure, 'score: ', best_grid_search_model.best_score_)\n",
    "print('parameters: ', best_grid_search_model.best_params_)\n",
    "Best_recall_AdaBoost = best_grid_search_model.best_score_\n",
    "Recall_values.append(best_grid_search_model.best_score_)"
   ]
  },
  {
   "cell_type": "markdown",
   "id": "267d2eb5-036a-4849-8c6e-c99067616652",
   "metadata": {},
   "source": [
    "#### The default adaboost model has a recall score of 0.9047698240885435. We customized adaboost using the two most critical parameters: n estimators and learning rate.\n",
    "- #### n_estimators : Number of trees we want to build before taking the maximum averages of predictions. Though, higher number of trees improves the performance, it will make the code to run slower. We have taken an ideal range of 1 to 50.\n",
    "- #### learning rate: learning rate represents each model's contribution to the weights and is set to 1 by default. When the learning rate is reduced, the weights are slightly increased or lowered, causing the model train to go slower (but sometimes resulting in better performance scores).\n",
    "#### After performing hyperparameter adjustment with a k-fold value of 10, we achieved the best model with parameters 'learning rate': 1.0, 'n estimators': 45, and recall of : 0.9047698240885435."
   ]
  },
  {
   "cell_type": "markdown",
   "id": "a1af5578-2fb9-4f5d-a16c-62af390f8270",
   "metadata": {},
   "source": [
    "# GradientBoosting"
   ]
  },
  {
   "cell_type": "code",
   "execution_count": 60,
   "id": "1970e7b1-672b-4295-845e-d676ae153609",
   "metadata": {},
   "outputs": [
    {
     "name": "stdout",
     "output_type": "stream",
     "text": [
      "Using default parameters : Recall score:\n",
      "0.9001\n"
     ]
    }
   ],
   "source": [
    "#GradientBoosting\n",
    "gboost = GradientBoostingClassifier(random_state=3)\n",
    "_ = gboost.fit(train_X, train_y)\n",
    "y_pred = gboost.predict(test_X)\n",
    "print(f\"Using default parameters : Recall score:\\n{recall_score(test_y,y_pred):.4f}\")#Checking model Recall score.\n",
    "Recall_values.append(recall_score(test_y,y_pred))\n",
    "\n"
   ]
  },
  {
   "cell_type": "code",
   "execution_count": 61,
   "id": "ff5a6988-9a2e-49a9-94ed-3dfcb4b22984",
   "metadata": {},
   "outputs": [
    {
     "name": "stdout",
     "output_type": "stream",
     "text": [
      "Fitting 10 folds for each of 100 candidates, totalling 1000 fits\n",
      "recall score:  0.9235100572034808\n",
      "parameters:  {'learning_rate': 1.5, 'max_depth': 2, 'n_estimators': 25}\n",
      "CPU times: total: 4.67 s\n",
      "Wall time: 2min 49s\n"
     ]
    }
   ],
   "source": [
    "%%time\n",
    "score_measure = 'recall'\n",
    "k_fold = 10\n",
    "param_grid ={ 'n_estimators' : [25, 50 ,75, 100, 200],\n",
    "              'learning_rate': [0.005 ,0.05, 0.5, 1.5,2],\n",
    "              'max_depth': [2, 4, 6, 8],\n",
    "              }\n",
    "best_grid_search_model = GridSearchCV(estimator=GradientBoostingClassifier(random_state=3), \n",
    "                                    scoring=score_measure, param_grid=param_grid, cv=k_fold, verbose=1,  n_jobs = -1)\n",
    "_ = best_grid_search_model.fit(train_X, train_y)\n",
    "print(score_measure, 'score: ', best_grid_search_model.best_score_)\n",
    "print('parameters: ', best_grid_search_model.best_params_)\n",
    "Best_recall_GB = best_grid_search_model.best_score_\n",
    "Recall_values.append(best_grid_search_model.best_score_)"
   ]
  },
  {
   "cell_type": "markdown",
   "id": "40c4b4dd-5689-41ec-86aa-a33fc816829d",
   "metadata": {},
   "source": [
    "#### Gradient boosting is a powerful technique for developing predictive models. It can benefit from regularization methods that penalize different parts of the algorithm and improve overall algorithm performance by reducing overfitting.\n",
    "#### Tunign n_estimators, Learning rate and max_depth:\n",
    "- #### The number of trees we add to the model is recorded by the variable n estimators. It can be costly computationally to process many trees. In general, n estimators should be changed to reflect changes in learning rate (a 10-fold drop in learning rate should correspond to an approximately 10-fold increase in n_estimators).\n",
    "- #### It can be said from the low learning_rate value of 0.05 that the n_estimators value is going to be high that seems to be the case as the best n_estimators ended up being : 100.\n",
    "- #### max_depth. This indicates how deep the built tree can be. The deeper the tree, the more splits it has and it captures more information about how the data. \n",
    "#### The Gradiant Boosting model tends to overfit the data and got a recall score of 0.9235100572034808. We have tuned gradiant boosting on the maximum depth that we allow the tree to grow, After performing hyperparameter tuning we got the best model at learning_rate': 1.5 , 'max_depth': 2, n_estimators': 25, with recall score: 0.9235100572034808."
   ]
  },
  {
   "cell_type": "markdown",
   "id": "e0cf840a-a507-4f4e-b733-bd6bcc6cbe0c",
   "metadata": {},
   "source": [
    "# XGBClassifier"
   ]
  },
  {
   "cell_type": "code",
   "execution_count": 62,
   "id": "347d1dec-1259-4e39-8476-f1ef6330de00",
   "metadata": {},
   "outputs": [
    {
     "name": "stdout",
     "output_type": "stream",
     "text": [
      "Using default parameters : Recall score:\n",
      "0.9181\n"
     ]
    }
   ],
   "source": [
    "#XGBClassifier\n",
    "xgboost = XGBClassifier(random_state=1)\n",
    "_ = xgboost.fit(train_X, train_y)\n",
    "y_pred = xgboost.predict(test_X)\n",
    "print(f\"Using default parameters : Recall score:\\n{recall_score(test_y,y_pred):.4f}\")#Checking model Recall score.\n",
    "Recall_values.append(recall_score(test_y,y_pred))\n",
    "\n"
   ]
  },
  {
   "cell_type": "code",
   "execution_count": 63,
   "id": "3a2bf3cf-b75e-439e-9be2-82111e6561cb",
   "metadata": {},
   "outputs": [
    {
     "name": "stdout",
     "output_type": "stream",
     "text": [
      "Fitting 10 folds for each of 100 candidates, totalling 1000 fits\n",
      "recall score:  0.9141273960229961\n",
      "parameters:  {'learning_rate': 0.2, 'max_depth': 6, 'n_estimators': 80}\n",
      "CPU times: total: 7.89 s\n",
      "Wall time: 6min 34s\n"
     ]
    }
   ],
   "source": [
    "%%time\n",
    "score_measure = 'recall'\n",
    "k_fold = 10\n",
    "param_grid = {\n",
    "            \n",
    "    'n_estimators': [80, 100, 250, 500, 750],\n",
    "    'learning_rate': [0.01, 0.1, 0.2, 0.3, 0.4],\n",
    "    'max_depth': [3, 6, 10, 15],\n",
    "            \n",
    "}\n",
    "\n",
    "           \n",
    "best_grid_search_model = GridSearchCV(estimator=XGBClassifier(random_state=1), \n",
    "                                    scoring=score_measure, param_grid=param_grid, cv=k_fold, verbose=1,  n_jobs = -1)\n",
    "_ = best_grid_search_model.fit(train_X, train_y)\n",
    "print(score_measure, 'score: ', best_grid_search_model.best_score_)\n",
    "print('parameters: ', best_grid_search_model.best_params_)\n",
    "Best_recall_XGB = best_grid_search_model.best_score_\n",
    "Recall_values.append(best_grid_search_model.best_score_)"
   ]
  },
  {
   "cell_type": "markdown",
   "id": "9c9e9ec9-fb02-4dd8-9a74-c945b4211483",
   "metadata": {},
   "source": [
    "#### Extreme Gradient Boosting (XGBoost) is a distributed, scalable gradient-boosted decision tree (GBDT) machine learning framework. The top machine learning library for regression, classification, and ranking issues, it offers parallel tree boosting.\n",
    "#### Here we used max depth, learning_rate, and n_estimators as parameters. Max depth is the maximum depth of the tree. learning_rate parameter can be set to control the weighting of new trees added to the model. n estimators are the number of runs the model will try to learn. After hyper tuning, the best values for parameters are max depth: 6, learning rate: 0.2, and n estimators:80. Hence, we obtained the recall = 0.9141273960229961."
   ]
  },
  {
   "cell_type": "markdown",
   "id": "5c40bdb3-06ef-4137-9d98-56a511b4b08b",
   "metadata": {},
   "source": [
    "# LogisticRegression"
   ]
  },
  {
   "cell_type": "code",
   "execution_count": 64,
   "id": "50880543-fec6-4342-8ee9-9b8d161593b8",
   "metadata": {},
   "outputs": [
    {
     "name": "stdout",
     "output_type": "stream",
     "text": [
      "Using default parameters : Recall score:\n",
      "0.8343\n"
     ]
    },
    {
     "name": "stderr",
     "output_type": "stream",
     "text": [
      "C:\\Users\\dsksr\\anaconda3\\lib\\site-packages\\sklearn\\linear_model\\_logistic.py:444: ConvergenceWarning: lbfgs failed to converge (status=1):\n",
      "STOP: TOTAL NO. of ITERATIONS REACHED LIMIT.\n",
      "\n",
      "Increase the number of iterations (max_iter) or scale the data as shown in:\n",
      "    https://scikit-learn.org/stable/modules/preprocessing.html\n",
      "Please also refer to the documentation for alternative solver options:\n",
      "    https://scikit-learn.org/stable/modules/linear_model.html#logistic-regression\n",
      "  n_iter_i = _check_optimize_result(\n"
     ]
    }
   ],
   "source": [
    "logClassifier=LogisticRegression(random_state=1)\n",
    "\n",
    "_ = logClassifier.fit(train_X,train_y)\n",
    "y_pred = logClassifier.predict(test_X)\n",
    "print(f\"Using default parameters : Recall score:\\n{recall_score(test_y,y_pred):.4f}\")#Checking model Recall score.\n",
    "Recall_values.append(recall_score(test_y,y_pred))"
   ]
  },
  {
   "cell_type": "code",
   "execution_count": 65,
   "id": "a9ce3a19-a504-44cc-ad22-b8d42fcc2327",
   "metadata": {},
   "outputs": [
    {
     "name": "stdout",
     "output_type": "stream",
     "text": [
      "recall score:  0.8526071310805581\n",
      "parameters:  {'C': 10, 'max_iter': 1000, 'penalty': 'l1', 'solver': 'liblinear'}\n",
      "CPU times: total: 625 ms\n",
      "Wall time: 1.33 s\n"
     ]
    }
   ],
   "source": [
    "%%time\n",
    "score_measure = 'recall'\n",
    "k_fold = 10\n",
    "param_grid = { 'solver': ['liblinear'],\n",
    "                      'penalty': ['l1', 'l2',], # NOTE: 'elasticnet' is only supported by 'saga' solver\n",
    "                      'C': [100, 10, 1.0],\n",
    "                      'max_iter': [1000,2500, 5000] # number of iterations to converge (sometimes the default is not enough - and sometimes, it will never converge)\n",
    "                     }\n",
    "\n",
    "\n",
    "\n",
    "\n",
    "best_grid_search_model = GridSearchCV(estimator=LogisticRegression(random_state=1),\n",
    "                                    scoring=score_measure, param_grid=param_grid, \n",
    "                                    cv=k_fold, verbose=0,  n_jobs = -1,error_score='raise')\n",
    "_ = best_grid_search_model.fit(train_X, train_y)\n",
    "print(score_measure, 'score: ', best_grid_search_model.best_score_)\n",
    "print('parameters: ', best_grid_search_model.best_params_)\n",
    "Best_recall_logistic = best_grid_search_model.best_score_\n",
    "Recall_values.append(best_grid_search_model.best_score_)"
   ]
  },
  {
   "cell_type": "markdown",
   "id": "b9f42642-9668-4cef-a793-75155974b925",
   "metadata": {},
   "source": [
    "#### To find the best parameters, we have performed tuning for the following variables:\n",
    "- C - float, default=1.0 Inverse of regularization strength; must be a positive float.\n",
    "- penalty{‘l1’, ‘l2’, ‘elasticnet’, ‘none’}, default=l2\n",
    " \n",
    "            1. none: no penalty is added;\n",
    "            2. l2: add a L2 penalty term and it is the default choice;\n",
    "            3. l1: add a L1 penalty term;\n",
    "            4. elasticnet: both L1 and L2 penalty terms are added.\n",
    "- solver{‘newton-cg’, ‘lbfgs’, ‘liblinear’, ‘sag’, ‘saga’}, default=’lbfgs’\n",
    "\n",
    "            1. For small datasets, ‘liblinear’ is a good choice, whereas ‘sag’ and ‘saga’ are faster for large ones;\n",
    "            2. For multiclass problems, only ‘newton-cg’, ‘sag’, ‘saga’ and ‘lbfgs’ handle multinomial loss;\n",
    "            3. liblinear is limited to one-versus-rest schemes.\n",
    "        \n",
    "- max_iterint, default=100 ,Maximum number of iterations taken for the solvers to converge.\n",
    "\n",
    "#### After performing hyperparameter tuning when k-fold value is 10, we got the best model at 'C': 10, 'max_iter': 1000, 'penalty': 'l1', 'solver': 'liblinear' with recall score: 0.8526071310805581. "
   ]
  },
  {
   "cell_type": "code",
   "execution_count": 66,
   "id": "9cb0f74c-a612-4b36-a9a9-b6b9bdc44ebc",
   "metadata": {},
   "outputs": [
    {
     "name": "stdout",
     "output_type": "stream",
     "text": [
      "Recall scores...\n",
      "K-NN:                0.8111410589095497\n",
      "Decision Tree:       0.8927269859930325\n",
      "Random Forest:       0.9114500150535477\n",
      "Ada Boosted:         0.9047698240885435\n",
      "GradientBoosting:    0.9235100572034808\n",
      "XGBoost:             0.9141273960229961\n",
      "LogisticRegression:  0.8526071310805581\n"
     ]
    }
   ],
   "source": [
    "print(\"Recall scores...\")\n",
    "print(f\"{'K-NN:':11}          {Best_recall_knn}\")\n",
    "print(f\"{'Decision Tree:':11}       {Best_recall_DT}\")\n",
    "print(f\"{'Random Forest:':11}       {Best_recall_RF}\")\n",
    "print(f\"{'Ada Boosted:':11}         {Best_recall_AdaBoost}\")\n",
    "print(f\"{'GradientBoosting:':11}    {Best_recall_GB}\")\n",
    "print(f\"{'XGBoost:':11}          {Best_recall_XGB}\")\n",
    "print(f\"{'LogisticRegression:':11}  {Best_recall_logistic}\")"
   ]
  },
  {
   "cell_type": "code",
   "execution_count": 67,
   "id": "220e589a-4522-4096-bb2f-d761b62806d4",
   "metadata": {},
   "outputs": [],
   "source": [
    "score_df = pd.DataFrame(list(zip(Algorithms, Recall_values)),\n",
    "               columns =['Algorithm', 'Recall'])\n",
    "score_df\n",
    "score_df['state']=['Default','After_tunning']*7"
   ]
  },
  {
   "cell_type": "code",
   "execution_count": 68,
   "id": "e0bb5c19-5de1-41d8-86b6-f4ce553477d5",
   "metadata": {},
   "outputs": [
    {
     "data": {
      "text/html": [
       "<div>\n",
       "<style scoped>\n",
       "    .dataframe tbody tr th:only-of-type {\n",
       "        vertical-align: middle;\n",
       "    }\n",
       "\n",
       "    .dataframe tbody tr th {\n",
       "        vertical-align: top;\n",
       "    }\n",
       "\n",
       "    .dataframe thead th {\n",
       "        text-align: right;\n",
       "    }\n",
       "</style>\n",
       "<table border=\"1\" class=\"dataframe\">\n",
       "  <thead>\n",
       "    <tr style=\"text-align: right;\">\n",
       "      <th></th>\n",
       "      <th>Algorithm</th>\n",
       "      <th>Recall</th>\n",
       "      <th>state</th>\n",
       "    </tr>\n",
       "  </thead>\n",
       "  <tbody>\n",
       "    <tr>\n",
       "      <th>0</th>\n",
       "      <td>knn</td>\n",
       "      <td>0.807866</td>\n",
       "      <td>Default</td>\n",
       "    </tr>\n",
       "    <tr>\n",
       "      <th>1</th>\n",
       "      <td>knn</td>\n",
       "      <td>0.811141</td>\n",
       "      <td>After_tunning</td>\n",
       "    </tr>\n",
       "    <tr>\n",
       "      <th>2</th>\n",
       "      <td>DecisionTree</td>\n",
       "      <td>0.883946</td>\n",
       "      <td>Default</td>\n",
       "    </tr>\n",
       "    <tr>\n",
       "      <th>3</th>\n",
       "      <td>DecisionTree</td>\n",
       "      <td>0.892727</td>\n",
       "      <td>After_tunning</td>\n",
       "    </tr>\n",
       "    <tr>\n",
       "      <th>4</th>\n",
       "      <td>RandomForest</td>\n",
       "      <td>0.899420</td>\n",
       "      <td>Default</td>\n",
       "    </tr>\n",
       "    <tr>\n",
       "      <th>5</th>\n",
       "      <td>RandomForest</td>\n",
       "      <td>0.911450</td>\n",
       "      <td>After_tunning</td>\n",
       "    </tr>\n",
       "    <tr>\n",
       "      <th>6</th>\n",
       "      <td>AdaBoostClassifier</td>\n",
       "      <td>0.891038</td>\n",
       "      <td>Default</td>\n",
       "    </tr>\n",
       "    <tr>\n",
       "      <th>7</th>\n",
       "      <td>AdaBoostClassifier</td>\n",
       "      <td>0.904770</td>\n",
       "      <td>After_tunning</td>\n",
       "    </tr>\n",
       "    <tr>\n",
       "      <th>8</th>\n",
       "      <td>GradientBoosting</td>\n",
       "      <td>0.900064</td>\n",
       "      <td>Default</td>\n",
       "    </tr>\n",
       "    <tr>\n",
       "      <th>9</th>\n",
       "      <td>GradientBoosting</td>\n",
       "      <td>0.923510</td>\n",
       "      <td>After_tunning</td>\n",
       "    </tr>\n",
       "    <tr>\n",
       "      <th>10</th>\n",
       "      <td>XGBClassifier</td>\n",
       "      <td>0.918117</td>\n",
       "      <td>Default</td>\n",
       "    </tr>\n",
       "    <tr>\n",
       "      <th>11</th>\n",
       "      <td>XGBClassifier</td>\n",
       "      <td>0.914127</td>\n",
       "      <td>After_tunning</td>\n",
       "    </tr>\n",
       "    <tr>\n",
       "      <th>12</th>\n",
       "      <td>LogisticRegression</td>\n",
       "      <td>0.834300</td>\n",
       "      <td>Default</td>\n",
       "    </tr>\n",
       "    <tr>\n",
       "      <th>13</th>\n",
       "      <td>LogisticRegression</td>\n",
       "      <td>0.852607</td>\n",
       "      <td>After_tunning</td>\n",
       "    </tr>\n",
       "  </tbody>\n",
       "</table>\n",
       "</div>"
      ],
      "text/plain": [
       "             Algorithm    Recall          state\n",
       "0                  knn  0.807866        Default\n",
       "1                  knn  0.811141  After_tunning\n",
       "2         DecisionTree  0.883946        Default\n",
       "3         DecisionTree  0.892727  After_tunning\n",
       "4         RandomForest  0.899420        Default\n",
       "5         RandomForest  0.911450  After_tunning\n",
       "6   AdaBoostClassifier  0.891038        Default\n",
       "7   AdaBoostClassifier  0.904770  After_tunning\n",
       "8     GradientBoosting  0.900064        Default\n",
       "9     GradientBoosting  0.923510  After_tunning\n",
       "10       XGBClassifier  0.918117        Default\n",
       "11       XGBClassifier  0.914127  After_tunning\n",
       "12  LogisticRegression  0.834300        Default\n",
       "13  LogisticRegression  0.852607  After_tunning"
      ]
     },
     "execution_count": 68,
     "metadata": {},
     "output_type": "execute_result"
    }
   ],
   "source": [
    "score_df"
   ]
  },
  {
   "cell_type": "code",
   "execution_count": 69,
   "id": "098cc2f0-ea97-4f3c-86b5-30864babeda7",
   "metadata": {},
   "outputs": [
    {
     "data": {
      "image/png": "[encoded data removed]",
      "text/plain": [
       "<Figure size 1500x800 with 1 Axes>"
      ]
     },
     "metadata": {},
     "output_type": "display_data"
    }
   ],
   "source": [
    "sns.set(rc = {'figure.figsize':(15,8)})\n",
    "ax= sns.barplot(x = 'Algorithm',\n",
    "            y = 'Recall',\n",
    "            hue='state',\n",
    "            data = score_df,palette = \"Blues\",ci=None)\n",
    "for i in ax.containers:\n",
    "     ax.bar_label(i,fmt='%.3f%%')\n",
    "# Show the plot\n",
    "plt.show()"
   ]
  },
  {
   "cell_type": "markdown",
   "id": "6ae25638-8928-44ce-976a-40506f97bd9d",
   "metadata": {},
   "source": [
    "#### From the above table and the graph, we could come up with a conclusion and see the overall recall score that obtained after performing model evaluation and found that Gradient Boosting provides the optimal result of all with a recall score of 0.923510 after performing the hyperparameter tuning, followed by XGBoost classifier. "
   ]
  },
  {
   "cell_type": "markdown",
   "id": "8f19459c-243b-4ef9-a999-99b9b6bf679f",
   "metadata": {},
   "source": [
    "# Business Conclusion"
   ]
  },
  {
   "cell_type": "markdown",
   "id": "381780ca-d8e2-4a5e-8ef6-44883f35a3ee",
   "metadata": {},
   "source": [
    "- #### Since FP is preferable over FN here, we are focusing on the recall here. The recall is found to be improving by applying the Gradient boosting model and also provides an optimal output here.\n",
    "- #### We have noticed that after implementing K- Fold cross validation as well as Hyper parameter tuning, we have found that the recall of the models have been improved. \n",
    "- #### Overall, Gradient Boosting turned out to be better model.In conclusion, methods like K- Fold cross validation as well hyper parameter tuning, are extremely useful in improving the quality of outputs for binary classification model generation.\n",
    "- #### Gradient Boosting model captured most of the actual positives. This will help the bank to limit thier cost on the marketing and also generate their revenue better by targetting the relevant customers that will most probably take the term deposit policy rather than those who were not interested.\n",
    "- #### By looking at the past analysis on this problem, we could see that the previous noted people who have worked on this business problem has got a recall score of 79% after applying support vector machines algorithm. We have made it even more optimal comparitively and found the recall score higher than the previous work."
   ]
  }
 ],
 "metadata": {
  "kernelspec": {
   "display_name": "Python 3 (ipykernel)",
   "language": "python",
   "name": "python3"
  },
  "language_info": {
   "codemirror_mode": {
    "name": "ipython",
    "version": 3
   },
   "file_extension": ".py",
   "mimetype": "text/x-python",
   "name": "python",
   "nbconvert_exporter": "python",
   "pygments_lexer": "ipython3",
   "version": "3.9.12"
  }
 },
 "nbformat": 4,
 "nbformat_minor": 5
}
